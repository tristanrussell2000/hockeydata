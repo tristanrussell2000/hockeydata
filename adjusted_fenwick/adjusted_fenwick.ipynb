{
 "cells": [
  {
   "cell_type": "code",
   "execution_count": 21,
   "metadata": {},
   "outputs": [],
   "source": [
    "import pandas as pd\n",
    "import matplotlib.pyplot as plt\n",
    "import math\n",
    "import sqlite3\n",
    "from scipy.stats import linregress\n",
    "from tabulate import tabulate"
   ]
  },
  {
   "cell_type": "code",
   "execution_count": 3,
   "metadata": {},
   "outputs": [],
   "source": [
    "pd.set_option('display.max_rows', None)\n",
    "pd.set_option('display.max_columns', None)"
   ]
  },
  {
   "cell_type": "code",
   "execution_count": 4,
   "metadata": {},
   "outputs": [],
   "source": [
    "conn = sqlite3.connect(\"../db/game-data.sqlite\")"
   ]
  },
  {
   "cell_type": "code",
   "execution_count": 70,
   "metadata": {},
   "outputs": [],
   "source": [
    "fenwick_coeffs = pd.read_sql(\"SELECT * FROM fenwick_coeffs\", conn)"
   ]
  },
  {
   "cell_type": "code",
   "execution_count": null,
   "metadata": {},
   "outputs": [
    {
     "data": {
      "text/html": [
       "<div>\n",
       "<style scoped>\n",
       "    .dataframe tbody tr th:only-of-type {\n",
       "        vertical-align: middle;\n",
       "    }\n",
       "\n",
       "    .dataframe tbody tr th {\n",
       "        vertical-align: top;\n",
       "    }\n",
       "\n",
       "    .dataframe thead th {\n",
       "        text-align: right;\n",
       "    }\n",
       "</style>\n",
       "<table border=\"1\" class=\"dataframe\">\n",
       "  <thead>\n",
       "    <tr style=\"text-align: right;\">\n",
       "      <th></th>\n",
       "      <th>HomeLeadBinned</th>\n",
       "      <th>HomeCoeff</th>\n",
       "      <th>AwayCoeff</th>\n",
       "    </tr>\n",
       "  </thead>\n",
       "  <tbody>\n",
       "    <tr>\n",
       "      <th>0</th>\n",
       "      <td>-3</td>\n",
       "      <td>0.854558</td>\n",
       "      <td>1.145442</td>\n",
       "    </tr>\n",
       "    <tr>\n",
       "      <th>1</th>\n",
       "      <td>-2</td>\n",
       "      <td>0.881844</td>\n",
       "      <td>1.118156</td>\n",
       "    </tr>\n",
       "    <tr>\n",
       "      <th>2</th>\n",
       "      <td>-1</td>\n",
       "      <td>0.913341</td>\n",
       "      <td>1.086669</td>\n",
       "    </tr>\n",
       "    <tr>\n",
       "      <th>3</th>\n",
       "      <td>0</td>\n",
       "      <td>0.972246</td>\n",
       "      <td>1.027758</td>\n",
       "    </tr>\n",
       "    <tr>\n",
       "      <th>4</th>\n",
       "      <td>1</td>\n",
       "      <td>1.031380</td>\n",
       "      <td>0.968629</td>\n",
       "    </tr>\n",
       "    <tr>\n",
       "      <th>5</th>\n",
       "      <td>2</td>\n",
       "      <td>1.066231</td>\n",
       "      <td>0.933769</td>\n",
       "    </tr>\n",
       "    <tr>\n",
       "      <th>6</th>\n",
       "      <td>3</td>\n",
       "      <td>1.083466</td>\n",
       "      <td>0.916561</td>\n",
       "    </tr>\n",
       "  </tbody>\n",
       "</table>\n",
       "</div>"
      ],
      "text/plain": [
       "   HomeLeadBinned  HomeCoeff  AwayCoeff\n",
       "0              -3   0.854558   1.145442\n",
       "1              -2   0.881844   1.118156\n",
       "2              -1   0.913341   1.086669\n",
       "3               0   0.972246   1.027758\n",
       "4               1   1.031380   0.968629\n",
       "5               2   1.066231   0.933769\n",
       "6               3   1.083466   0.916561"
      ]
     },
     "execution_count": 71,
     "metadata": {},
     "output_type": "execute_result"
    }
   ],
   "source": [
    "# Home Lead vs Fenwick Adjustment Coefficient\n",
    "fenwick_coeffs.head(10)"
   ]
  },
  {
   "cell_type": "code",
   "execution_count": null,
   "metadata": {},
   "outputs": [],
   "source": [
    "fenwicks = pd.read_sql(\"SELECT * FROM FenwickAndScore\", conn)"
   ]
  },
  {
   "cell_type": "code",
   "execution_count": 45,
   "metadata": {},
   "outputs": [],
   "source": [
    "fenwicks[\"season\"] = fenwicks[\"gameid\"].apply(lambda id: math.floor(id / 1_000_000))\n",
    "fenwicks[\"fenwickPct\"] = fenwicks.AdjustedFenwickFor / (fenwicks.AdjustedFenwickFor + fenwicks.AdjustedFenwickAgainst)\n",
    "fenwicks[\"won\"] = (fenwicks.ScoreFor > fenwicks.ScoreAgainst).astype(int)"
   ]
  },
  {
   "cell_type": "code",
   "execution_count": 46,
   "metadata": {},
   "outputs": [
    {
     "data": {
      "text/html": [
       "<div>\n",
       "<style scoped>\n",
       "    .dataframe tbody tr th:only-of-type {\n",
       "        vertical-align: middle;\n",
       "    }\n",
       "\n",
       "    .dataframe tbody tr th {\n",
       "        vertical-align: top;\n",
       "    }\n",
       "\n",
       "    .dataframe thead th {\n",
       "        text-align: right;\n",
       "    }\n",
       "</style>\n",
       "<table border=\"1\" class=\"dataframe\">\n",
       "  <thead>\n",
       "    <tr style=\"text-align: right;\">\n",
       "      <th></th>\n",
       "      <th>gameid</th>\n",
       "      <th>TeamId</th>\n",
       "      <th>TeamName</th>\n",
       "      <th>AdjustedFenwickFor</th>\n",
       "      <th>RawFenwickFor</th>\n",
       "      <th>isHomeTeam</th>\n",
       "      <th>OpponentId</th>\n",
       "      <th>OpponentName</th>\n",
       "      <th>AdjustedFenwickAgainst</th>\n",
       "      <th>RawFenwickAgainst</th>\n",
       "      <th>ScoreFor</th>\n",
       "      <th>ScoreAgainst</th>\n",
       "      <th>season</th>\n",
       "      <th>fenwickPct</th>\n",
       "      <th>won</th>\n",
       "    </tr>\n",
       "  </thead>\n",
       "  <tbody>\n",
       "    <tr>\n",
       "      <th>0</th>\n",
       "      <td>2010020001</td>\n",
       "      <td>8</td>\n",
       "      <td>Montréal Canadiens</td>\n",
       "      <td>28.992240</td>\n",
       "      <td>30</td>\n",
       "      <td>0</td>\n",
       "      <td>10</td>\n",
       "      <td>Toronto Maple Leafs</td>\n",
       "      <td>27.680428</td>\n",
       "      <td>27</td>\n",
       "      <td>2</td>\n",
       "      <td>3</td>\n",
       "      <td>2010</td>\n",
       "      <td>0.511574</td>\n",
       "      <td>0</td>\n",
       "    </tr>\n",
       "    <tr>\n",
       "      <th>1</th>\n",
       "      <td>2010020001</td>\n",
       "      <td>10</td>\n",
       "      <td>Toronto Maple Leafs</td>\n",
       "      <td>27.680428</td>\n",
       "      <td>27</td>\n",
       "      <td>1</td>\n",
       "      <td>8</td>\n",
       "      <td>Montréal Canadiens</td>\n",
       "      <td>28.992240</td>\n",
       "      <td>30</td>\n",
       "      <td>3</td>\n",
       "      <td>2</td>\n",
       "      <td>2010</td>\n",
       "      <td>0.488426</td>\n",
       "      <td>1</td>\n",
       "    </tr>\n",
       "    <tr>\n",
       "      <th>2</th>\n",
       "      <td>2010020002</td>\n",
       "      <td>4</td>\n",
       "      <td>Philadelphia Flyers</td>\n",
       "      <td>30.865375</td>\n",
       "      <td>29</td>\n",
       "      <td>0</td>\n",
       "      <td>5</td>\n",
       "      <td>Pittsburgh Penguins</td>\n",
       "      <td>34.908733</td>\n",
       "      <td>37</td>\n",
       "      <td>3</td>\n",
       "      <td>2</td>\n",
       "      <td>2010</td>\n",
       "      <td>0.469263</td>\n",
       "      <td>1</td>\n",
       "    </tr>\n",
       "    <tr>\n",
       "      <th>3</th>\n",
       "      <td>2010020002</td>\n",
       "      <td>5</td>\n",
       "      <td>Pittsburgh Penguins</td>\n",
       "      <td>34.908733</td>\n",
       "      <td>37</td>\n",
       "      <td>1</td>\n",
       "      <td>4</td>\n",
       "      <td>Philadelphia Flyers</td>\n",
       "      <td>30.865375</td>\n",
       "      <td>29</td>\n",
       "      <td>2</td>\n",
       "      <td>3</td>\n",
       "      <td>2010</td>\n",
       "      <td>0.530737</td>\n",
       "      <td>0</td>\n",
       "    </tr>\n",
       "    <tr>\n",
       "      <th>4</th>\n",
       "      <td>2010020003</td>\n",
       "      <td>12</td>\n",
       "      <td>Carolina Hurricanes</td>\n",
       "      <td>37.900863</td>\n",
       "      <td>36</td>\n",
       "      <td>0</td>\n",
       "      <td>30</td>\n",
       "      <td>Minnesota Wild</td>\n",
       "      <td>24.733733</td>\n",
       "      <td>26</td>\n",
       "      <td>4</td>\n",
       "      <td>3</td>\n",
       "      <td>2010</td>\n",
       "      <td>0.605111</td>\n",
       "      <td>1</td>\n",
       "    </tr>\n",
       "  </tbody>\n",
       "</table>\n",
       "</div>"
      ],
      "text/plain": [
       "       gameid  TeamId             TeamName  AdjustedFenwickFor  RawFenwickFor  \\\n",
       "0  2010020001       8   Montréal Canadiens           28.992240             30   \n",
       "1  2010020001      10  Toronto Maple Leafs           27.680428             27   \n",
       "2  2010020002       4  Philadelphia Flyers           30.865375             29   \n",
       "3  2010020002       5  Pittsburgh Penguins           34.908733             37   \n",
       "4  2010020003      12  Carolina Hurricanes           37.900863             36   \n",
       "\n",
       "   isHomeTeam  OpponentId         OpponentName  AdjustedFenwickAgainst  \\\n",
       "0           0          10  Toronto Maple Leafs               27.680428   \n",
       "1           1           8   Montréal Canadiens               28.992240   \n",
       "2           0           5  Pittsburgh Penguins               34.908733   \n",
       "3           1           4  Philadelphia Flyers               30.865375   \n",
       "4           0          30       Minnesota Wild               24.733733   \n",
       "\n",
       "   RawFenwickAgainst  ScoreFor  ScoreAgainst  season  fenwickPct  won  \n",
       "0                 27         2             3    2010    0.511574    0  \n",
       "1                 30         3             2    2010    0.488426    1  \n",
       "2                 37         3             2    2010    0.469263    1  \n",
       "3                 29         2             3    2010    0.530737    0  \n",
       "4                 26         4             3    2010    0.605111    1  "
      ]
     },
     "execution_count": 46,
     "metadata": {},
     "output_type": "execute_result"
    }
   ],
   "source": [
    "fenwicks.head()"
   ]
  },
  {
   "cell_type": "code",
   "execution_count": 51,
   "metadata": {},
   "outputs": [],
   "source": [
    "def fenwick_correlations(predictor_for, predictor_against, to_predict_for, to_predict_against, n1, n2):\n",
    "\n",
    "    scorrs = []\n",
    "\n",
    "    for _, season_games in fenwicks.groupby([\"season\", \"TeamId\"]):\n",
    "        #if season not in (2010, 2011, 2012, 2013, 2014): continue\n",
    "        corrs = []\n",
    "        for i in range(0, 100):\n",
    "            season_sample = season_games.sample(n=40)\n",
    "            season_1 = season_sample.iloc[0:n1]\n",
    "            season_2 = season_sample.iloc[n1:n2]\n",
    "            \n",
    "            dataFenwick = season_1[predictor_for].mean() - (season_1[predictor_against].mean() if to_predict_against else 0)\n",
    "            dataOut = season_2[to_predict_for].mean() - (season_2[to_predict_against].mean() if to_predict_against else 0)\n",
    "\n",
    "            scorrs.append((dataFenwick, dataOut))\n",
    "\n",
    "    corrs = pd.DataFrame(scorrs)\n",
    "    _, _, r_value, p_value, _ = linregress(corrs[0], corrs[1])\n",
    "    \n",
    "    return r_value**2\n"
   ]
  },
  {
   "cell_type": "code",
   "execution_count": 39,
   "metadata": {},
   "outputs": [],
   "source": [
    "# Auto Determination 20 games predicting 20 games\n",
    "adj_corr = fenwick_correlations(\"AdjustedFenwickFor\", \"AdjustedFenwickAgainst\", \"AdjustedFenwickFor\", \"AdjustedFenwickAgainst\", 20, 40)\n",
    "raw_corr = fenwick_correlations(\"RawFenwickFor\", \"RawFenwickAgainst\", \"RawFenwickFor\", \"RawFenwickAgainst\", 20, 40)"
   ]
  },
  {
   "cell_type": "code",
   "execution_count": 40,
   "metadata": {},
   "outputs": [
    {
     "name": "stdout",
     "output_type": "stream",
     "text": [
      "Possession Metric         Auto-determination (R^2)\n",
      "----------------------  --------------------------\n",
      "Raw Fenwick                               0.490059\n",
      "Score-adjusted Fenwick                    0.552636\n"
     ]
    }
   ],
   "source": [
    "print(tabulate([[\"Raw Fenwick\", raw_corr],[\"Score-adjusted Fenwick\", adj_corr]], headers=['Possession Metric', 'Auto-determination (R^2)']))"
   ]
  },
  {
   "cell_type": "code",
   "execution_count": 65,
   "metadata": {},
   "outputs": [],
   "source": [
    "# Determination of goal percentage, 20 games predicting 20 games\n",
    "adj_gf_corr = fenwick_correlations(\"AdjustedFenwickFor\", \"AdjustedFenwickAgainst\", \"ScoreFor\", \"ScoreAgainst\", 20, 40)\n",
    "raw_gf_corr = fenwick_correlations(\"RawFenwickFor\", \"RawFenwickAgainst\", \"ScoreFor\", \"ScoreAgainst\", 20, 40)"
   ]
  },
  {
   "cell_type": "code",
   "execution_count": 66,
   "metadata": {},
   "outputs": [
    {
     "name": "stdout",
     "output_type": "stream",
     "text": [
      "Possession Metric         Determination of Goal Differential (R^2)\n",
      "----------------------  ------------------------------------------\n",
      "Raw Fenwick                                               0.176267\n",
      "Score-adjusted Fenwick                                    0.214187\n"
     ]
    }
   ],
   "source": [
    "print(tabulate([[\"Raw Fenwick\", raw_gf_corr],[\"Score-adjusted Fenwick\", adj_gf_corr]], headers=['Possession Metric', 'Determination of Goal Differential (R^2)']))"
   ]
  },
  {
   "cell_type": "code",
   "execution_count": null,
   "metadata": {},
   "outputs": [],
   "source": [
    "# Determination of winning percentage, 20 games predicting 20 games\n",
    "adj_wpct_corr = fenwick_correlations(\"AdjustedFenwickFor\", \"AdjustedFenwickAgainst\", \"won\", \"\", 20, 40)\n",
    "raw_wpct_corr = fenwick_correlations(\"RawFenwickFor\", \"RawFenwickAgainst\", \"won\", \"\", 20, 40)"
   ]
  },
  {
   "cell_type": "code",
   "execution_count": 55,
   "metadata": {},
   "outputs": [
    {
     "name": "stdout",
     "output_type": "stream",
     "text": [
      "Possession Metric         Determination of Winning Percentage (R^2)\n",
      "----------------------  -------------------------------------------\n",
      "Raw Fenwick                                               0.068343\n",
      "Score-adjusted Fenwick                                    0.0838039\n"
     ]
    }
   ],
   "source": [
    "print(tabulate([[\"Raw Fenwick\", raw_wpct_corr],[\"Score-adjusted Fenwick\", adj_wpct_corr]], headers=['Possession Metric', 'Determination of Winning Percentage (R^2)']))"
   ]
  },
  {
   "cell_type": "code",
   "execution_count": 56,
   "metadata": {},
   "outputs": [],
   "source": [
    "# Auto Determination 5 games predicting 35 games\n",
    "adj_5_corr = fenwick_correlations(\"AdjustedFenwickFor\", \"AdjustedFenwickAgainst\", \"AdjustedFenwickFor\", \"AdjustedFenwickAgainst\", 5, 35)\n",
    "raw_5_corr = fenwick_correlations(\"RawFenwickFor\", \"RawFenwickAgainst\", \"RawFenwickFor\", \"RawFenwickAgainst\", 5, 35)"
   ]
  },
  {
   "cell_type": "code",
   "execution_count": 57,
   "metadata": {},
   "outputs": [
    {
     "name": "stdout",
     "output_type": "stream",
     "text": [
      "Possession Metric         Auto-determination (R^2)\n",
      "----------------------  --------------------------\n",
      "Raw Fenwick                               0.281344\n",
      "Score-adjusted Fenwick                    0.336388\n"
     ]
    }
   ],
   "source": [
    "print(tabulate([[\"Raw Fenwick\", raw_5_corr],[\"Score-adjusted Fenwick\", adj_5_corr]], headers=['Possession Metric', 'Auto-determination (R^2)']))"
   ]
  },
  {
   "cell_type": "code",
   "execution_count": 68,
   "metadata": {},
   "outputs": [],
   "source": [
    "# Determination of goal percentage, 5 games predicting 35 games\n",
    "adj_5gf_corr = fenwick_correlations(\"AdjustedFenwickFor\", \"AdjustedFenwickAgainst\", \"ScoreFor\", \"ScoreAgainst\", 5, 35)\n",
    "raw_5gf_corr = fenwick_correlations(\"RawFenwickFor\", \"RawFenwickAgainst\", \"ScoreFor\", \"ScoreAgainst\", 5, 35)"
   ]
  },
  {
   "cell_type": "code",
   "execution_count": 69,
   "metadata": {},
   "outputs": [
    {
     "name": "stdout",
     "output_type": "stream",
     "text": [
      "Possession Metric         Determination of Goal Differential (R^2)\n",
      "----------------------  ------------------------------------------\n",
      "Raw Fenwick                                               0.111019\n",
      "Score-adjusted Fenwick                                    0.14558\n"
     ]
    }
   ],
   "source": [
    "print(tabulate([[\"Raw Fenwick\", raw_5gf_corr],[\"Score-adjusted Fenwick\", adj_5gf_corr]], headers=['Possession Metric', 'Determination of Goal Differential (R^2)']))"
   ]
  },
  {
   "cell_type": "code",
   "execution_count": 61,
   "metadata": {},
   "outputs": [],
   "source": [
    "# Determination of winning percentage, 5 games predicting 35 games\n",
    "adj_5wpct_corr = fenwick_correlations(\"AdjustedFenwickFor\", \"AdjustedFenwickAgainst\", \"won\", \"\", 20, 40)\n",
    "raw_5wpct_corr = fenwick_correlations(\"RawFenwickFor\", \"RawFenwickAgainst\", \"won\", \"\", 20, 40)"
   ]
  },
  {
   "cell_type": "code",
   "execution_count": 63,
   "metadata": {},
   "outputs": [
    {
     "name": "stdout",
     "output_type": "stream",
     "text": [
      "Possession Metric         Determination of Winning Percentage (R^2)\n",
      "----------------------  -------------------------------------------\n",
      "Raw Fenwick                                               0.0672801\n",
      "Score-adjusted Fenwick                                    0.084764\n"
     ]
    }
   ],
   "source": [
    "print(tabulate([[\"Raw Fenwick\", raw_5wpct_corr],[\"Score-adjusted Fenwick\", adj_5wpct_corr]], headers=['Possession Metric', 'Determination of Winning Percentage (R^2)']))"
   ]
  }
 ],
 "metadata": {
  "kernelspec": {
   "display_name": ".venv",
   "language": "python",
   "name": "python3"
  },
  "language_info": {
   "codemirror_mode": {
    "name": "ipython",
    "version": 3
   },
   "file_extension": ".py",
   "mimetype": "text/x-python",
   "name": "python",
   "nbconvert_exporter": "python",
   "pygments_lexer": "ipython3",
   "version": "3.11.9"
  }
 },
 "nbformat": 4,
 "nbformat_minor": 2
}
